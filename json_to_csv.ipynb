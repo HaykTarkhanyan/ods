{
 "cells": [
  {
   "cell_type": "code",
   "execution_count": 92,
   "metadata": {
    "ExecuteTime": {
     "end_time": "2021-04-23T19:58:42.645332Z",
     "start_time": "2021-04-23T19:58:42.638354Z"
    }
   },
   "outputs": [],
   "source": [
    "import os\n",
    "import json\n",
    "import pandas as pd"
   ]
  },
  {
   "cell_type": "code",
   "execution_count": 84,
   "metadata": {
    "ExecuteTime": {
     "end_time": "2021-04-23T19:24:52.464023Z",
     "start_time": "2021-04-23T19:24:52.455082Z"
    }
   },
   "outputs": [
    {
     "data": {
      "text/plain": [
       "True"
      ]
     },
     "execution_count": 84,
     "metadata": {},
     "output_type": "execute_result"
    }
   ],
   "source": [
    "os.path.exists(os.path.join('Aditional Dataset', 'vott-json-export (nedolivi)', \"Blades-3-export.json\"))#, \"Blades-export.json\"))"
   ]
  },
  {
   "cell_type": "code",
   "execution_count": 93,
   "metadata": {
    "ExecuteTime": {
     "end_time": "2021-04-23T19:58:48.086832Z",
     "start_time": "2021-04-23T19:58:48.079845Z"
    }
   },
   "outputs": [],
   "source": [
    "DATA_PATH_train_rakovini = os.path.join('Training Dataset', 'vott-json-export (rakovini)', \"Blades-2-export.json\")\n",
    "DATA_PATH_additional_tren=shini = os.path.join('Aditional Dataset', 'vott-json-export (treshini)', \"Blades-export.json\")\n",
    "# DATA_PATH = os.path.join('Aditional Dataset', 'vott-json-export (nedolivi)', \"Blades-3-export.json\")"
   ]
  },
  {
   "cell_type": "code",
   "execution_count": 103,
   "metadata": {
    "ExecuteTime": {
     "end_time": "2021-04-23T19:59:50.593819Z",
     "start_time": "2021-04-23T19:59:50.586840Z"
    }
   },
   "outputs": [],
   "source": [
    "DATA_PATH = DATA_PATH_train_rakovini"
   ]
  },
  {
   "cell_type": "code",
   "execution_count": 104,
   "metadata": {
    "ExecuteTime": {
     "end_time": "2021-04-23T19:59:51.080035Z",
     "start_time": "2021-04-23T19:59:51.074014Z"
    }
   },
   "outputs": [],
   "source": [
    "with open(DATA_PATH, encoding=\"utf8\") as f:\n",
    "    labels = json.load(f)"
   ]
  },
  {
   "cell_type": "code",
   "execution_count": 105,
   "metadata": {
    "ExecuteTime": {
     "end_time": "2021-04-23T19:59:52.766792Z",
     "start_time": "2021-04-23T19:59:52.761807Z"
    }
   },
   "outputs": [
    {
     "name": "stdout",
     "output_type": "stream",
     "text": [
      "we have 31 images\n"
     ]
    }
   ],
   "source": [
    "image_ids = list(labels['assets'].keys())\n",
    "print (f'we have {len(image_ids)} images')"
   ]
  },
  {
   "cell_type": "code",
   "execution_count": 106,
   "metadata": {
    "ExecuteTime": {
     "end_time": "2021-04-23T19:59:54.067105Z",
     "start_time": "2021-04-23T19:59:54.043212Z"
    }
   },
   "outputs": [],
   "source": [
    "names = []\n",
    "width_image = []\n",
    "height_image = []\n",
    "\n",
    "bbox_width = []\n",
    "bbox_height = []\n",
    "bbox_top = []\n",
    "bbox_left = []\n",
    "\n",
    "bbox_cord_down_left_x = []\n",
    "bbox_cord_down_left_y = []\n",
    "\n",
    "bbox_cord_down_right_x = []\n",
    "bbox_cord_down_right_y = []\n",
    "\n",
    "bbox_cord_up_left_x = []\n",
    "bbox_cord_up_left_y = []\n",
    "\n",
    "bbox_cord_up_right_x = []\n",
    "bbox_cord_up_right_y = []\n",
    "\n",
    "\n",
    "\n",
    "for im_id in image_ids:\n",
    "    # get metadata\n",
    "    names.append(labels['assets'][im_id]['asset']['name'])\n",
    "    width_image.append(labels['assets'][im_id]['asset']['size']['width'])\n",
    "    height_image.append(labels['assets'][im_id]['asset']['size']['height'])\n",
    "    \n",
    "    bbox_width.append(labels['assets'][im_id]['regions'][0]['boundingBox']['width'])\n",
    "    bbox_height.append(labels['assets'][im_id]['regions'][0]['boundingBox']['height'])\n",
    "    \n",
    "    bbox_top.append(labels['assets'][im_id]['regions'][0]['boundingBox']['top'])\n",
    "    bbox_left.append(labels['assets'][im_id]['regions'][0]['boundingBox']['left'])\n",
    "    \n",
    "    bbox_cord_down_left_x.append(labels['assets'][im_id]['regions'][0]['points'][0]['x'])\n",
    "    bbox_cord_down_left_y.append(labels['assets'][im_id]['regions'][0]['points'][0]['y'])\n",
    "        \n",
    "    bbox_cord_down_right_x.append(labels['assets'][im_id]['regions'][0]['points'][1]['x'])\n",
    "    bbox_cord_down_right_y.append(labels['assets'][im_id]['regions'][0]['points'][1]['y'])\n",
    "    \n",
    "    bbox_cord_up_left_x.append(labels['assets'][im_id]['regions'][0]['points'][3]['x'])\n",
    "    bbox_cord_up_left_y.append(labels['assets'][im_id]['regions'][0]['points'][3]['y'])\n",
    "        \n",
    "    bbox_cord_up_right_x.append(labels['assets'][im_id]['regions'][0]['points'][2]['x'])\n",
    "    bbox_cord_up_right_y.append(labels['assets'][im_id]['regions'][0]['points'][2]['y'])\n"
   ]
  },
  {
   "cell_type": "markdown",
   "metadata": {},
   "source": [
    "## saving to csv"
   ]
  },
  {
   "cell_type": "code",
   "execution_count": 110,
   "metadata": {
    "ExecuteTime": {
     "end_time": "2021-04-23T20:00:45.042654Z",
     "start_time": "2021-04-23T20:00:45.003630Z"
    }
   },
   "outputs": [],
   "source": [
    "labels_df = pd.DataFrame()\n",
    "labels_df['file_name'] = names\n",
    "labels_df['image_width'] = width_image\n",
    "labels_df['image_height'] = height_image\n",
    "labels_df['bbox_height'] = bbox_height\n",
    "labels_df['bbox_width'] = bbox_width\n",
    "labels_df['bbox_top'] = bbox_top\n",
    "labels_df['bbox_left'] = bbox_left\n",
    "\n",
    "labels_df['bbox_cord_down_left_x'] = bbox_cord_down_left_x\n",
    "labels_df['bbox_cord_down_left_y'] = bbox_cord_down_left_y\n",
    "labels_df['bbox_cord_down_right_x'] = bbox_cord_down_right_x\n",
    "labels_df['bbox_cord_down_right_y'] = bbox_cord_down_right_y\n",
    "\n",
    "labels_df['bbox_cord_up_left_x'] = bbox_cord_up_left_x\n",
    "labels_df['bbox_cord_up_left_y'] = bbox_cord_up_left_y\n",
    "\n",
    "labels_df['bbox_cord_up_left_x'] = bbox_cord_up_left_x\n",
    "labels_df['bbox_cord_up_left_y'] = bbox_cord_up_left_y\n",
    "\n",
    "\n",
    "# labels_df.to_csv('labels_csv_additional_treshini.csv', index=False)\n",
    "labels_df.to_csv('labels_csv_training_rakovini_.csv', index=False)\n",
    "# labels_df.to_csv('labels_csv_additional_nedolivi.csv', index=False)"
   ]
  },
  {
   "cell_type": "code",
   "execution_count": 91,
   "metadata": {
    "ExecuteTime": {
     "end_time": "2021-04-23T19:26:33.528534Z",
     "start_time": "2021-04-23T19:26:33.431794Z"
    }
   },
   "outputs": [
    {
     "data": {
      "text/html": [
       "<div>\n",
       "<style scoped>\n",
       "    .dataframe tbody tr th:only-of-type {\n",
       "        vertical-align: middle;\n",
       "    }\n",
       "\n",
       "    .dataframe tbody tr th {\n",
       "        vertical-align: top;\n",
       "    }\n",
       "\n",
       "    .dataframe thead th {\n",
       "        text-align: right;\n",
       "    }\n",
       "</style>\n",
       "<table border=\"1\" class=\"dataframe\">\n",
       "  <thead>\n",
       "    <tr style=\"text-align: right;\">\n",
       "      <th></th>\n",
       "      <th>image_width</th>\n",
       "      <th>image_height</th>\n",
       "      <th>bbox_height</th>\n",
       "      <th>bbox_width</th>\n",
       "      <th>bbox_top</th>\n",
       "      <th>bbox_left</th>\n",
       "      <th>bbox_cord_down_left_x</th>\n",
       "      <th>bbox_cord_down_left_y</th>\n",
       "      <th>bbox_cord_down_right_x</th>\n",
       "      <th>bbox_cord_down_right_y</th>\n",
       "      <th>bbox_cord_up_left_x</th>\n",
       "      <th>bbox_cord_up_left_y</th>\n",
       "    </tr>\n",
       "  </thead>\n",
       "  <tbody>\n",
       "    <tr>\n",
       "      <th>count</th>\n",
       "      <td>65.0</td>\n",
       "      <td>65.0</td>\n",
       "      <td>65.000000</td>\n",
       "      <td>65.000000</td>\n",
       "      <td>65.000000</td>\n",
       "      <td>65.000000</td>\n",
       "      <td>65.000000</td>\n",
       "      <td>65.000000</td>\n",
       "      <td>65.000000</td>\n",
       "      <td>65.000000</td>\n",
       "      <td>65.000000</td>\n",
       "      <td>65.000000</td>\n",
       "    </tr>\n",
       "    <tr>\n",
       "      <th>mean</th>\n",
       "      <td>5184.0</td>\n",
       "      <td>3456.0</td>\n",
       "      <td>169.505325</td>\n",
       "      <td>310.778698</td>\n",
       "      <td>1519.697041</td>\n",
       "      <td>2382.191716</td>\n",
       "      <td>2382.191716</td>\n",
       "      <td>2382.191716</td>\n",
       "      <td>2692.970414</td>\n",
       "      <td>2692.970414</td>\n",
       "      <td>2382.191716</td>\n",
       "      <td>2382.191716</td>\n",
       "    </tr>\n",
       "    <tr>\n",
       "      <th>std</th>\n",
       "      <td>0.0</td>\n",
       "      <td>0.0</td>\n",
       "      <td>50.405930</td>\n",
       "      <td>89.614130</td>\n",
       "      <td>652.666593</td>\n",
       "      <td>1376.636566</td>\n",
       "      <td>1376.636566</td>\n",
       "      <td>1376.636566</td>\n",
       "      <td>1366.262363</td>\n",
       "      <td>1366.262363</td>\n",
       "      <td>1376.636566</td>\n",
       "      <td>1376.636566</td>\n",
       "    </tr>\n",
       "    <tr>\n",
       "      <th>min</th>\n",
       "      <td>5184.0</td>\n",
       "      <td>3456.0</td>\n",
       "      <td>84.923077</td>\n",
       "      <td>144.000000</td>\n",
       "      <td>336.000000</td>\n",
       "      <td>797.538462</td>\n",
       "      <td>797.538462</td>\n",
       "      <td>797.538462</td>\n",
       "      <td>1085.538462</td>\n",
       "      <td>1085.538462</td>\n",
       "      <td>797.538462</td>\n",
       "      <td>797.538462</td>\n",
       "    </tr>\n",
       "    <tr>\n",
       "      <th>25%</th>\n",
       "      <td>5184.0</td>\n",
       "      <td>3456.0</td>\n",
       "      <td>136.615385</td>\n",
       "      <td>236.307692</td>\n",
       "      <td>1070.769231</td>\n",
       "      <td>982.153846</td>\n",
       "      <td>982.153846</td>\n",
       "      <td>982.153846</td>\n",
       "      <td>1358.769231</td>\n",
       "      <td>1358.769231</td>\n",
       "      <td>982.153846</td>\n",
       "      <td>982.153846</td>\n",
       "    </tr>\n",
       "    <tr>\n",
       "      <th>50%</th>\n",
       "      <td>5184.0</td>\n",
       "      <td>3456.0</td>\n",
       "      <td>162.461538</td>\n",
       "      <td>295.384615</td>\n",
       "      <td>1355.076923</td>\n",
       "      <td>1528.615385</td>\n",
       "      <td>1528.615385</td>\n",
       "      <td>1528.615385</td>\n",
       "      <td>1855.384615</td>\n",
       "      <td>1855.384615</td>\n",
       "      <td>1528.615385</td>\n",
       "      <td>1528.615385</td>\n",
       "    </tr>\n",
       "    <tr>\n",
       "      <th>75%</th>\n",
       "      <td>5184.0</td>\n",
       "      <td>3456.0</td>\n",
       "      <td>199.384615</td>\n",
       "      <td>372.923077</td>\n",
       "      <td>2045.538462</td>\n",
       "      <td>3768.000000</td>\n",
       "      <td>3768.000000</td>\n",
       "      <td>3768.000000</td>\n",
       "      <td>4076.307692</td>\n",
       "      <td>4076.307692</td>\n",
       "      <td>3768.000000</td>\n",
       "      <td>3768.000000</td>\n",
       "    </tr>\n",
       "    <tr>\n",
       "      <th>max</th>\n",
       "      <td>5184.0</td>\n",
       "      <td>3456.0</td>\n",
       "      <td>291.692308</td>\n",
       "      <td>502.153846</td>\n",
       "      <td>2953.846154</td>\n",
       "      <td>4124.307692</td>\n",
       "      <td>4124.307692</td>\n",
       "      <td>4124.307692</td>\n",
       "      <td>4434.461538</td>\n",
       "      <td>4434.461538</td>\n",
       "      <td>4124.307692</td>\n",
       "      <td>4124.307692</td>\n",
       "    </tr>\n",
       "  </tbody>\n",
       "</table>\n",
       "</div>"
      ],
      "text/plain": [
       "       image_width  image_height  bbox_height  bbox_width     bbox_top  \\\n",
       "count         65.0          65.0    65.000000   65.000000    65.000000   \n",
       "mean        5184.0        3456.0   169.505325  310.778698  1519.697041   \n",
       "std            0.0           0.0    50.405930   89.614130   652.666593   \n",
       "min         5184.0        3456.0    84.923077  144.000000   336.000000   \n",
       "25%         5184.0        3456.0   136.615385  236.307692  1070.769231   \n",
       "50%         5184.0        3456.0   162.461538  295.384615  1355.076923   \n",
       "75%         5184.0        3456.0   199.384615  372.923077  2045.538462   \n",
       "max         5184.0        3456.0   291.692308  502.153846  2953.846154   \n",
       "\n",
       "         bbox_left  bbox_cord_down_left_x  bbox_cord_down_left_y  \\\n",
       "count    65.000000              65.000000              65.000000   \n",
       "mean   2382.191716            2382.191716            2382.191716   \n",
       "std    1376.636566            1376.636566            1376.636566   \n",
       "min     797.538462             797.538462             797.538462   \n",
       "25%     982.153846             982.153846             982.153846   \n",
       "50%    1528.615385            1528.615385            1528.615385   \n",
       "75%    3768.000000            3768.000000            3768.000000   \n",
       "max    4124.307692            4124.307692            4124.307692   \n",
       "\n",
       "       bbox_cord_down_right_x  bbox_cord_down_right_y  bbox_cord_up_left_x  \\\n",
       "count               65.000000               65.000000            65.000000   \n",
       "mean              2692.970414             2692.970414          2382.191716   \n",
       "std               1366.262363             1366.262363          1376.636566   \n",
       "min               1085.538462             1085.538462           797.538462   \n",
       "25%               1358.769231             1358.769231           982.153846   \n",
       "50%               1855.384615             1855.384615          1528.615385   \n",
       "75%               4076.307692             4076.307692          3768.000000   \n",
       "max               4434.461538             4434.461538          4124.307692   \n",
       "\n",
       "       bbox_cord_up_left_y  \n",
       "count            65.000000  \n",
       "mean           2382.191716  \n",
       "std            1376.636566  \n",
       "min             797.538462  \n",
       "25%             982.153846  \n",
       "50%            1528.615385  \n",
       "75%            3768.000000  \n",
       "max            4124.307692  "
      ]
     },
     "execution_count": 91,
     "metadata": {},
     "output_type": "execute_result"
    }
   ],
   "source": [
    "labels_df.describe()"
   ]
  },
  {
   "cell_type": "code",
   "execution_count": null,
   "metadata": {},
   "outputs": [],
   "source": []
  }
 ],
 "metadata": {
  "kernelspec": {
   "display_name": "Python 3",
   "language": "python",
   "name": "python3"
  },
  "language_info": {
   "codemirror_mode": {
    "name": "ipython",
    "version": 3
   },
   "file_extension": ".py",
   "mimetype": "text/x-python",
   "name": "python",
   "nbconvert_exporter": "python",
   "pygments_lexer": "ipython3",
   "version": "3.6.8"
  }
 },
 "nbformat": 4,
 "nbformat_minor": 4
}
